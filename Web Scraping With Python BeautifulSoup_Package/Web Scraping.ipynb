{
 "cells": [
  {
   "cell_type": "code",
   "execution_count": 5,
   "metadata": {},
   "outputs": [
    {
     "name": "stdout",
     "output_type": "stream",
     "text": [
      "Title\n",
      ",Author(S)\n",
      ",Publisher\n",
      ",PubDate\n",
      ",\n",
      "Title\n",
      ",Author(S)\n",
      ",Publisher\n",
      ",PubDate\n",
      "\n",
      "Learning Python,Mark Lutz,O'Reilly Media,June 2013,\n",
      "Learning Python,Mark Lutz,O'Reilly Media,June 2013\n",
      "Web Scraping with Python,Ryan Mitchell,O'Reilly Media,November 2017,\n",
      "Web Scraping with Python,Ryan Mitchell,O'Reilly Media,November 2017\n",
      "Python Coding for Kids,Don Wilcher,Maker Media, Inc,September 2017,\n",
      "Python Coding for Kids,Don Wilcher,Maker Media, Inc,September 2017\n",
      "Python Machine Learning By Example,Yuxi Liu,Packt Publishing,May 2017,\n",
      "Python Machine Learning By Example,Yuxi Liu,Packt Publishing,May 2017\n",
      "Python Data Structures and Algorithms,Benjamin Baka,Packt Publishing,May 2017,\n",
      "Python Data Structures and Algorithms,Benjamin Baka,Packt Publishing,May 2017\n",
      "Python in a Nutshell,Alex Martelli, Anna Ravenscroft,O'Reilly Media,April 2017,\n",
      "Python in a Nutshell,Alex Martelli, Anna Ravenscroft,O'Reilly Media,April 2017\n",
      "Invent Your Own Computer Games with Python,Al Sweigart,No Starch Press,December 2016,\n",
      "Invent Your Own Computer Games with Python,Al Sweigart,No Starch Press,December 2016\n",
      "Head First Python,Paul Barry,O'Reilly Media,November 2016,\n",
      "Head First Python,Paul Barry,O'Reilly Media,November 2016\n",
      "Integrating Python with Leading Computer Forensics Platforms,Chet Hosmer,Elsevier / Syngress,September 2016,\n",
      "Integrating Python with Leading Computer Forensics Platforms,Chet Hosmer,Elsevier / Syngress,September 2016\n",
      "Data Science Essentials in Python,Dmitry Zinoviev,Pragmatic Bookshelf,August 2016,\n",
      "Data Science Essentials in Python,Dmitry Zinoviev,Pragmatic Bookshelf,August 2016\n",
      "O'Reilly Media         4\n",
      "Packt Publishing       2\n",
      "Pragmatic Bookshelf    1\n",
      "Maker Media| Inc       1\n",
      "Elsevier / Syngress    1\n",
      "No Starch Press        1\n",
      "Name:  publisher, dtype: int64\n"
     ]
    },
    {
     "data": {
      "image/png": "[encoded data removed]",
      "text/plain": [
       "<Figure size 432x288 with 1 Axes>"
      ]
     },
     "metadata": {
      "needs_background": "light"
     },
     "output_type": "display_data"
    },
    {
     "name": "stdout",
     "output_type": "stream",
     "text": [
      "           0     1\n",
      "0       June  2013\n",
      "1   November  2017\n",
      "2  September  2017\n",
      "3        May  2017\n",
      "4        May  2017\n",
      "5      April  2017\n",
      "6   December  2016\n",
      "7   November  2016\n",
      "8  September  2016\n",
      "9     August  2016\n",
      "2017    5\n",
      "2016    4\n",
      "2013    1\n",
      "Name: 1, dtype: int64\n"
     ]
    },
    {
     "data": {
      "image/png": "[encoded data removed]",
      "text/plain": [
       "<Figure size 432x288 with 1 Axes>"
      ]
     },
     "metadata": {
      "needs_background": "light"
     },
     "output_type": "display_data"
    }
   ],
   "source": [
    "#Student Name: REDDIVARI SAI SARAN\n",
    "#G Number:G01142501\n",
    "\n",
    "import matplotlib.pyplot as plt \n",
    "import urllib\n",
    "from bs4 import BeautifulSoup\n",
    "import requests\n",
    "import pandas as pd\n",
    "import csv\n",
    "import xlrd\n",
    "\n",
    "url = requests.get(\"https://repo.vse.gmu.edu/ait/AIT580/580books.html\")\n",
    "\n",
    "soup = BeautifulSoup(url.content, 'html.parser')\n",
    "\n",
    "listitems = soup.find_all('li')\n",
    "\n",
    "filename = \"listofbooks_saran.csv\"\n",
    "f = open(filename, \"w\")\n",
    "\n",
    "headers = \"title, author, publisher, release\\n\"\n",
    "f.write(headers)\n",
    "\n",
    "for entry in listitems:\n",
    "    \n",
    "    title = entry.a.booktitle.text\n",
    "    title = title.replace(\",\", \"|\")\n",
    "    author = entry.author.text\n",
    "    author = author.replace(\",\", \"|\")\n",
    "    publisher = entry.publisher.text\n",
    "    publisher = publisher.replace(\",\", \"|\")\n",
    "    release = entry.release.text\n",
    "    release = release.replace(\",\", \"|\")\n",
    "   \n",
    "    f.write(title + \",\" + author + \",\" + publisher + \",\" + release + \"\\n\")\n",
    "\n",
    "f.close()\n",
    "\n",
    "for record in soup.findAll('tr'):\n",
    "    tbltxt = \"\"\n",
    "    for data in record.findAll('td'):\n",
    "        tbltxt = tbltxt + data.text + \",\"\n",
    "    print(tbltxt)\n",
    "    print(tbltxt[0:-1])\n",
    "\n",
    "    \n",
    "data=pd.read_csv('C:/Users/saran/Downloads/listofbooks_saran.csv')\n",
    "data1=data[' publisher'].value_counts()\n",
    "print(data1)\n",
    "data1.plot()\n",
    "data1.plot(kind='bar')\n",
    "plt.xlabel('PUBLISHER')\n",
    "plt.ylabel('FREQUENCY')\n",
    "plt.title('visulization for publisher')\n",
    "plt.show()\n",
    "\n",
    "df=data.iloc[:,3].str.split(' ', expand=True)\n",
    "print(df)\n",
    "data2=df[1].value_counts()\n",
    "print(data2)\n",
    "data2.plot(kind='bar')\n",
    "plt.ylabel('Frequency')\n",
    "plt.xlabel('year of Publication')\n",
    "plt.title('Visualize for year of Publication')\n",
    "plt.show()"
   ]
  },
  {
   "cell_type": "code",
   "execution_count": null,
   "metadata": {},
   "outputs": [],
   "source": []
  },
  {
   "cell_type": "code",
   "execution_count": null,
   "metadata": {},
   "outputs": [],
   "source": []
  }
 ],
 "metadata": {
  "kernelspec": {
   "display_name": "Python 3",
   "language": "python",
   "name": "python3"
  },
  "language_info": {
   "codemirror_mode": {
    "name": "ipython",
    "version": 3
   },
   "file_extension": ".py",
   "mimetype": "text/x-python",
   "name": "python",
   "nbconvert_exporter": "python",
   "pygments_lexer": "ipython3",
   "version": "3.7.0"
  }
 },
 "nbformat": 4,
 "nbformat_minor": 2
}
