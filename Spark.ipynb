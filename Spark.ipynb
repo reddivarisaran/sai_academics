{
 "cells": [
  {
   "cell_type": "markdown",
   "metadata": {},
   "source": [
    "NAME   : REDDIVARI SAI SARAN\n",
    "Gnumber: G01142501"
   ]
  },
  {
   "cell_type": "code",
   "execution_count": 2,
   "metadata": {
    "collapsed": true
   },
   "outputs": [],
   "source": [
    "%%bash\n",
    "wget -q https://repo.vse.gmu.edu/DataScience/apache.access.log"
   ]
  },
  {
   "cell_type": "code",
   "execution_count": 3,
   "metadata": {},
   "outputs": [],
   "source": [
    "import os\n",
    "import sys\n",
    "import re\n",
    "import datetime\n",
    "import findspark\n",
    "findspark.init('/opt/spark')\n",
    "from pyspark.sql import functions as F"
   ]
  },
  {
   "cell_type": "code",
   "execution_count": 4,
   "metadata": {
    "collapsed": true
   },
   "outputs": [],
   "source": [
    "from pyspark import SparkConf, SparkContext\n",
    "from pyspark.sql import SQLContext\n",
    "sc = SparkContext()\n",
    "sc.stop()\n",
    "sqlContext = SQLContext(sc)"
   ]
  },
  {
   "cell_type": "code",
   "execution_count": 5,
   "metadata": {
    "collapsed": true
   },
   "outputs": [],
   "source": [
    "data = sqlContext.read.text('apache.access.log')"
   ]
  },
  {
   "cell_type": "code",
   "execution_count": 6,
   "metadata": {},
   "outputs": [
    {
     "name": "stdout",
     "output_type": "stream",
     "text": [
      "1043177\n"
     ]
    }
   ],
   "source": [
    "print(data.count())"
   ]
  },
  {
   "cell_type": "code",
   "execution_count": 7,
   "metadata": {},
   "outputs": [
    {
     "name": "stdout",
     "output_type": "stream",
     "text": [
      "root\n",
      " |-- value: string (nullable = true)\n",
      "\n",
      "None\n"
     ]
    }
   ],
   "source": [
    "print(data.printSchema())"
   ]
  },
  {
   "cell_type": "code",
   "execution_count": 8,
   "metadata": {},
   "outputs": [
    {
     "name": "stdout",
     "output_type": "stream",
     "text": [
      "+--------------------------------------------------------------------------------------------------------------------------+\n",
      "|value                                                                                                                     |\n",
      "+--------------------------------------------------------------------------------------------------------------------------+\n",
      "|in24.inetnebr.com - - [01/Aug/1995:00:00:01 -0400] \"GET /shuttle/missions/sts-68/news/sts-68-mcc-05.txt HTTP/1.0\" 200 1839|\n",
      "|uplherc.upl.com - - [01/Aug/1995:00:00:07 -0400] \"GET / HTTP/1.0\" 304 0                                                   |\n",
      "|uplherc.upl.com - - [01/Aug/1995:00:00:08 -0400] \"GET /images/ksclogo-medium.gif HTTP/1.0\" 304 0                          |\n",
      "|uplherc.upl.com - - [01/Aug/1995:00:00:08 -0400] \"GET /images/MOSAIC-logosmall.gif HTTP/1.0\" 304 0                        |\n",
      "|uplherc.upl.com - - [01/Aug/1995:00:00:08 -0400] \"GET /images/USA-logosmall.gif HTTP/1.0\" 304 0                           |\n",
      "|ix-esc-ca2-07.ix.netcom.com - - [01/Aug/1995:00:00:09 -0400] \"GET /images/launch-logo.gif HTTP/1.0\" 200 1713              |\n",
      "|uplherc.upl.com - - [01/Aug/1995:00:00:10 -0400] \"GET /images/WORLD-logosmall.gif HTTP/1.0\" 304 0                         |\n",
      "+--------------------------------------------------------------------------------------------------------------------------+\n",
      "only showing top 7 rows\n",
      "\n"
     ]
    }
   ],
   "source": [
    "data.show(n=7,truncate=False)"
   ]
  },
  {
   "cell_type": "code",
   "execution_count": 9,
   "metadata": {},
   "outputs": [
    {
     "name": "stdout",
     "output_type": "stream",
     "text": [
      "+------------------+--------------------------+-----------------------------------------------+------+------------+\n",
      "|host              |timestamp                 |path                                           |status|content_size|\n",
      "+------------------+--------------------------+-----------------------------------------------+------+------------+\n",
      "|in24.inetnebr.com |01/Aug/1995:00:00:01 -0400|/shuttle/missions/sts-68/news/sts-68-mcc-05.txt|200   |1839        |\n",
      "|uplherc.upl.com   |01/Aug/1995:00:00:07 -0400|/                                              |304   |0           |\n",
      "|uplherc.upl.com   |01/Aug/1995:00:00:08 -0400|/images/ksclogo-medium.gif                     |304   |0           |\n",
      "|uplherc.upl.com   |01/Aug/1995:00:00:08 -0400|/images/MOSAIC-logosmall.gif                   |304   |0           |\n",
      "|uplherc.upl.com   |01/Aug/1995:00:00:08 -0400|/images/USA-logosmall.gif                      |304   |0           |\n",
      "+------------------+--------------------------+-----------------------------------------------+------+------------+\n",
      "only showing top 5 rows\n",
      "\n"
     ]
    }
   ],
   "source": [
    "split_df = data.select(\n",
    "  # \\s = whitespace char, \\d = digit char [0-9], \\w = word char\n",
    "  # 'host' field: ([^\\s]+\\s) means take group who DOESN'T begin with whitespace char, and regex stop when it encounters \\s\n",
    "  F.regexp_extract('value', r'^([^\\s]+\\s)', 1).alias('host'),\n",
    "  # 'timestamp' field: capture group whose enclosed by bar bracket [] - parenthesis doesn't cover the bar-brack cuz you just want the timestamp.\n",
    "  #                    it goes like: \"2-dig/3-alpha/4-dig/2dig:2dig:2dig: -3dig\"\n",
    "  F.regexp_extract('value', r'^.*\\[(\\d{2}/\\w{3}/\\d{4}:\\d{2}:\\d{2}:\\d{2} -\\d{4})]', 1).alias('timestamp'),\n",
    "  # 'path' field: ^.*\" = take any char until you hit the double-quote char.  \\w+\\s = http request method.\n",
    "  #               Finally, ([^\\s]+)\\s+HTTP = keep extracing all non-whitespace char until you bump into \\s followed up HTTP\n",
    "  F.regexp_extract('value', r'^.*\"\\w+\\s+([^\\s]+)\\s+HTTP.*\"', 1).alias('path'),\n",
    "  # 'status' field: http://www.w3schools.com/tags/ref_httpmessages.asp\n",
    "  F.regexp_extract('value', r'^.*\"\\s+([^\\s]+)', 1).cast('integer').alias('status'),\n",
    "  # 'content_size' field: the ending series of digits\n",
    "  F.regexp_extract('value', r'^.*\\s+(\\d+)$', 1).cast('integer').alias('content_size'))\n",
    "split_df.show(n=5,truncate=False)"
   ]
  },
  {
   "cell_type": "code",
   "execution_count": 10,
   "metadata": {
    "collapsed": true
   },
   "outputs": [],
   "source": [
    "cleaned_df = split_df.na.fill({'content_size': 0})"
   ]
  },
  {
   "cell_type": "code",
   "execution_count": 11,
   "metadata": {
    "collapsed": true
   },
   "outputs": [],
   "source": [
    "month_map = {\n",
    "  'Jan': 1, 'Feb': 2, 'Mar':3, 'Apr':4, 'May':5, 'Jun':6, 'Jul':7,\n",
    "  'Aug':8,  'Sep': 9, 'Oct':10, 'Nov': 11, 'Dec': 12\n",
    "}\n",
    "\n",
    "def parse_clf_time(s):\n",
    "    \"\"\" Convert Common Log time format into a Python datetime object\n",
    "    Args:\n",
    "        s (str): date and time in Apache time format [dd/mmm/yyyy:hh:mm:ss (+/-)zzzz]\n",
    "    Returns:\n",
    "        a string suitable for passing to CAST('timestamp')\n",
    "    \"\"\"\n",
    "    # NOTE: We're ignoring time zone here. In a production application, you'd want to handle that.\n",
    "    return \"{0:04d}-{1:02d}-{2:02d} {3:02d}:{4:02d}:{5:02d}\".format(\n",
    "      int(s[7:11]),\n",
    "      month_map[s[3:6]],\n",
    "      int(s[0:2]),\n",
    "      int(s[12:14]),\n",
    "      int(s[15:17]),\n",
    "      int(s[18:20])\n",
    "    )\n",
    "\n",
    "u_parse_time = F.udf(parse_clf_time)"
   ]
  },
  {
   "cell_type": "code",
   "execution_count": 12,
   "metadata": {},
   "outputs": [
    {
     "name": "stdout",
     "output_type": "stream",
     "text": [
      "Column<CAST(parse_clf_time(timestamp) AS TIMESTAMP) AS `time`>\n"
     ]
    }
   ],
   "source": [
    "col_to_append = (u_parse_time(cleaned_df['timestamp'])\n",
    "                 .cast('timestamp') # convert column type. https://wtak23.github.io/pyspark/generated/generated/sql.Column.cast.html\n",
    "                 .alias('time')     # rename\n",
    "                )\n",
    "print(col_to_append)"
   ]
  },
  {
   "cell_type": "code",
   "execution_count": 13,
   "metadata": {},
   "outputs": [
    {
     "name": "stdout",
     "output_type": "stream",
     "text": [
      "+------------------+--------------------------+-----------------------------------------------+------+------------+-------------------+\n",
      "|host              |timestamp                 |path                                           |status|content_size|time               |\n",
      "+------------------+--------------------------+-----------------------------------------------+------+------------+-------------------+\n",
      "|in24.inetnebr.com |01/Aug/1995:00:00:01 -0400|/shuttle/missions/sts-68/news/sts-68-mcc-05.txt|200   |1839        |1995-08-01 00:00:01|\n",
      "|uplherc.upl.com   |01/Aug/1995:00:00:07 -0400|/                                              |304   |0           |1995-08-01 00:00:07|\n",
      "|uplherc.upl.com   |01/Aug/1995:00:00:08 -0400|/images/ksclogo-medium.gif                     |304   |0           |1995-08-01 00:00:08|\n",
      "|uplherc.upl.com   |01/Aug/1995:00:00:08 -0400|/images/MOSAIC-logosmall.gif                   |304   |0           |1995-08-01 00:00:08|\n",
      "|uplherc.upl.com   |01/Aug/1995:00:00:08 -0400|/images/USA-logosmall.gif                      |304   |0           |1995-08-01 00:00:08|\n",
      "+------------------+--------------------------+-----------------------------------------------+------+------------+-------------------+\n",
      "only showing top 5 rows\n",
      "\n"
     ]
    }
   ],
   "source": [
    "# now append column to our parsed, cleaned dataframe\n",
    "logs_df = cleaned_df.select('*', col_to_append)\n",
    "logs_df.show(n=5,truncate=False)"
   ]
  },
  {
   "cell_type": "code",
   "execution_count": 14,
   "metadata": {},
   "outputs": [
    {
     "name": "stdout",
     "output_type": "stream",
     "text": [
      "+------------------+-----------------------------------------------+------+------------+-------------------+\n",
      "|host              |path                                           |status|content_size|time               |\n",
      "+------------------+-----------------------------------------------+------+------------+-------------------+\n",
      "|in24.inetnebr.com |/shuttle/missions/sts-68/news/sts-68-mcc-05.txt|200   |1839        |1995-08-01 00:00:01|\n",
      "|uplherc.upl.com   |/                                              |304   |0           |1995-08-01 00:00:07|\n",
      "|uplherc.upl.com   |/images/ksclogo-medium.gif                     |304   |0           |1995-08-01 00:00:08|\n",
      "|uplherc.upl.com   |/images/MOSAIC-logosmall.gif                   |304   |0           |1995-08-01 00:00:08|\n",
      "|uplherc.upl.com   |/images/USA-logosmall.gif                      |304   |0           |1995-08-01 00:00:08|\n",
      "+------------------+-----------------------------------------------+------+------------+-------------------+\n",
      "only showing top 5 rows\n",
      "\n"
     ]
    }
   ],
   "source": [
    "logs_df = logs_df.drop('timestamp')\n",
    "logs_df.show(n=5,truncate=False)"
   ]
  },
  {
   "cell_type": "code",
   "execution_count": 15,
   "metadata": {
    "scrolled": true
   },
   "outputs": [
    {
     "name": "stdout",
     "output_type": "stream",
     "text": [
      "1043177\n"
     ]
    }
   ],
   "source": [
    "total_log_entries = logs_df.count()\n",
    "print(total_log_entries)"
   ]
  },
  {
   "cell_type": "code",
   "execution_count": 16,
   "metadata": {
    "scrolled": true
   },
   "outputs": [
    {
     "name": "stdout",
     "output_type": "stream",
     "text": [
      "root\n",
      " |-- host: string (nullable = true)\n",
      " |-- path: string (nullable = true)\n",
      " |-- status: integer (nullable = true)\n",
      " |-- content_size: integer (nullable = false)\n",
      " |-- time: timestamp (nullable = true)\n",
      "\n"
     ]
    }
   ],
   "source": [
    "logs_df.printSchema()"
   ]
  },
  {
   "cell_type": "code",
   "execution_count": 17,
   "metadata": {},
   "outputs": [
    {
     "name": "stdout",
     "output_type": "stream",
     "text": [
      "+--------------------+--------------------+------+------------+-------------------+\n",
      "|                host|                path|status|content_size|               time|\n",
      "+--------------------+--------------------+------+------------+-------------------+\n",
      "|  in24.inetnebr.com |/shuttle/missions...|   200|        1839|1995-08-01 00:00:01|\n",
      "|    uplherc.upl.com |                   /|   304|           0|1995-08-01 00:00:07|\n",
      "|    uplherc.upl.com |/images/ksclogo-m...|   304|           0|1995-08-01 00:00:08|\n",
      "|    uplherc.upl.com |/images/MOSAIC-lo...|   304|           0|1995-08-01 00:00:08|\n",
      "|    uplherc.upl.com |/images/USA-logos...|   304|           0|1995-08-01 00:00:08|\n",
      "|ix-esc-ca2-07.ix....|/images/launch-lo...|   200|        1713|1995-08-01 00:00:09|\n",
      "|    uplherc.upl.com |/images/WORLD-log...|   304|           0|1995-08-01 00:00:10|\n",
      "|slppp6.intermind....|/history/skylab/s...|   200|        1687|1995-08-01 00:00:10|\n",
      "|piweba4y.prodigy....|/images/launchmed...|   200|       11853|1995-08-01 00:00:10|\n",
      "|slppp6.intermind....|/history/skylab/s...|   200|        9202|1995-08-01 00:00:11|\n",
      "|slppp6.intermind....|/images/ksclogosm...|   200|        3635|1995-08-01 00:00:12|\n",
      "|ix-esc-ca2-07.ix....|/history/apollo/i...|   200|        1173|1995-08-01 00:00:12|\n",
      "|slppp6.intermind....|/history/apollo/i...|   200|        3047|1995-08-01 00:00:13|\n",
      "|    uplherc.upl.com |/images/NASA-logo...|   304|           0|1995-08-01 00:00:14|\n",
      "|       133.43.96.45 |/shuttle/missions...|   200|       10566|1995-08-01 00:00:16|\n",
      "|kgtyk4.kj.yamagat...|                   /|   200|        7280|1995-08-01 00:00:17|\n",
      "|kgtyk4.kj.yamagat...|/images/ksclogo-m...|   200|        5866|1995-08-01 00:00:18|\n",
      "|    d0ucr6.fnal.gov |/history/apollo/a...|   200|        2743|1995-08-01 00:00:19|\n",
      "|ix-esc-ca2-07.ix....|/shuttle/resource...|   200|        6849|1995-08-01 00:00:19|\n",
      "|    d0ucr6.fnal.gov |/history/apollo/a...|   200|       14897|1995-08-01 00:00:20|\n",
      "+--------------------+--------------------+------+------------+-------------------+\n",
      "only showing top 20 rows\n",
      "\n"
     ]
    }
   ],
   "source": [
    "logs_df.show()"
   ]
  },
  {
   "cell_type": "markdown",
   "metadata": {},
   "source": [
    "### Write your code below. \n",
    "##### Few hints\n",
    "##### 1. Use logs_df to answer the questions.\n",
    "##### 2. For visualization, convert your data to Pasdas DataFrame first.\n",
    "##### -----"
   ]
  },
  {
   "cell_type": "markdown",
   "metadata": {},
   "source": [
    "Q1: Show the content_size Statistics using describe method (5 points)"
   ]
  },
  {
   "cell_type": "code",
   "execution_count": 18,
   "metadata": {},
   "outputs": [
    {
     "name": "stdout",
     "output_type": "stream",
     "text": [
      "+--------------------+--------------------+------+------------+-------------------+\n",
      "|                host|                path|status|content_size|               time|\n",
      "+--------------------+--------------------+------+------------+-------------------+\n",
      "|  in24.inetnebr.com |/shuttle/missions...|   200|        1839|1995-08-01 00:00:01|\n",
      "|    uplherc.upl.com |                   /|   304|           0|1995-08-01 00:00:07|\n",
      "|    uplherc.upl.com |/images/ksclogo-m...|   304|           0|1995-08-01 00:00:08|\n",
      "|    uplherc.upl.com |/images/MOSAIC-lo...|   304|           0|1995-08-01 00:00:08|\n",
      "|    uplherc.upl.com |/images/USA-logos...|   304|           0|1995-08-01 00:00:08|\n",
      "|ix-esc-ca2-07.ix....|/images/launch-lo...|   200|        1713|1995-08-01 00:00:09|\n",
      "|    uplherc.upl.com |/images/WORLD-log...|   304|           0|1995-08-01 00:00:10|\n",
      "|slppp6.intermind....|/history/skylab/s...|   200|        1687|1995-08-01 00:00:10|\n",
      "|piweba4y.prodigy....|/images/launchmed...|   200|       11853|1995-08-01 00:00:10|\n",
      "|slppp6.intermind....|/history/skylab/s...|   200|        9202|1995-08-01 00:00:11|\n",
      "|slppp6.intermind....|/images/ksclogosm...|   200|        3635|1995-08-01 00:00:12|\n",
      "|ix-esc-ca2-07.ix....|/history/apollo/i...|   200|        1173|1995-08-01 00:00:12|\n",
      "|slppp6.intermind....|/history/apollo/i...|   200|        3047|1995-08-01 00:00:13|\n",
      "|    uplherc.upl.com |/images/NASA-logo...|   304|           0|1995-08-01 00:00:14|\n",
      "|       133.43.96.45 |/shuttle/missions...|   200|       10566|1995-08-01 00:00:16|\n",
      "|kgtyk4.kj.yamagat...|                   /|   200|        7280|1995-08-01 00:00:17|\n",
      "|kgtyk4.kj.yamagat...|/images/ksclogo-m...|   200|        5866|1995-08-01 00:00:18|\n",
      "|    d0ucr6.fnal.gov |/history/apollo/a...|   200|        2743|1995-08-01 00:00:19|\n",
      "|ix-esc-ca2-07.ix....|/shuttle/resource...|   200|        6849|1995-08-01 00:00:19|\n",
      "|    d0ucr6.fnal.gov |/history/apollo/a...|   200|       14897|1995-08-01 00:00:20|\n",
      "+--------------------+--------------------+------+------------+-------------------+\n",
      "only showing top 20 rows\n",
      "\n"
     ]
    }
   ],
   "source": [
    "df=logs_df\n",
    "df.show()"
   ]
  },
  {
   "cell_type": "code",
   "execution_count": 19,
   "metadata": {},
   "outputs": [
    {
     "name": "stdout",
     "output_type": "stream",
     "text": [
      "+-------+------------------+\n",
      "|summary|      content_size|\n",
      "+-------+------------------+\n",
      "|  count|           1043177|\n",
      "|   mean|17531.555702435926|\n",
      "| stddev|  68561.9990626412|\n",
      "|    min|                 0|\n",
      "|    max|           3421948|\n",
      "+-------+------------------+\n",
      "\n"
     ]
    }
   ],
   "source": [
    "df.describe('content_size').show()"
   ]
  },
  {
   "cell_type": "markdown",
   "metadata": {},
   "source": [
    "Q2: Count each status (hint: Use groupby and count). Also sort the output by status (5 points)"
   ]
  },
  {
   "cell_type": "code",
   "execution_count": 55,
   "metadata": {},
   "outputs": [],
   "source": [
    "df1=df.groupby(\"status\").count()"
   ]
  },
  {
   "cell_type": "code",
   "execution_count": 80,
   "metadata": {},
   "outputs": [
    {
     "name": "stdout",
     "output_type": "stream",
     "text": [
      "+------+------+\n",
      "|status| count|\n",
      "+------+------+\n",
      "|   501|    17|\n",
      "|   500|     2|\n",
      "|   403|    58|\n",
      "|   404|  6185|\n",
      "|   200|940847|\n",
      "|   304| 79824|\n",
      "|   302| 16244|\n",
      "+------+------+\n",
      "\n"
     ]
    }
   ],
   "source": [
    "df1.show()"
   ]
  },
  {
   "cell_type": "markdown",
   "metadata": {},
   "source": [
    "Q3: Display the about output using Bar graph. (Hint: Use matplotlib library) (5 points)"
   ]
  },
  {
   "cell_type": "code",
   "execution_count": 60,
   "metadata": {},
   "outputs": [],
   "source": [
    "import matplotlib.pyplot as plt"
   ]
  },
  {
   "cell_type": "code",
   "execution_count": 34,
   "metadata": {},
   "outputs": [
    {
     "data": {
      "text/plain": [
       "<matplotlib.axes._subplots.AxesSubplot at 0x7f0ef4fd4750>"
      ]
     },
     "execution_count": 34,
     "metadata": {},
     "output_type": "execute_result"
    },
    {
     "data": {
      "image/png": "[encoded data removed]",
      "text/plain": [
       "<Figure size 432x288 with 1 Axes>"
      ]
     },
     "metadata": {},
     "output_type": "display_data"
    }
   ],
   "source": [
    "import pandas as pd \n",
    "\n",
    "df=pd.DataFrame({'status':[501,500,403,404,200,304,302],'count':[17,2,58,6185,940847,79824,16244]})\n",
    "df.plot.bar(x='status',y='count')\n"
   ]
  },
  {
   "cell_type": "markdown",
   "metadata": {},
   "source": [
    "Q4: Get all hosts that has accessed the server more than 10 times. Show 15 hosts as an output (5 points)"
   ]
  },
  {
   "cell_type": "code",
   "execution_count": 86,
   "metadata": {},
   "outputs": [
    {
     "name": "stdout",
     "output_type": "stream",
     "text": [
      "+--------------------+-----+\n",
      "|                host|count|\n",
      "+--------------------+-----+\n",
      "| grail911.nando.net |    8|\n",
      "|prakinf2.prakinf....|   96|\n",
      "| alpha2.csd.uwm.edu |   81|\n",
      "|cjc07992.slip.dig...|   16|\n",
      "|n1377004.ksc.nasa...|  227|\n",
      "|      163.205.2.134 |   78|\n",
      "|huge.oso.chalmers...|  237|\n",
      "|    198.180.132.201 |    2|\n",
      "|      163.205.44.27 |   60|\n",
      "|    dial17.irco.com |    1|\n",
      "| marple.harvard.edu |    2|\n",
      "| shark.ksc.nasa.gov |   26|\n",
      "|    xyplex16.uio.no |    6|\n",
      "| etc5.etechcorp.com |   11|\n",
      "|dd07-029.compuser...|   18|\n",
      "|    131.182.101.161 |   64|\n",
      "|ip-ts2-131.neca.com |    6|\n",
      "|     134.95.100.201 |   15|\n",
      "|        194.20.24.3 |    3|\n",
      "|     143.166.206.88 |    5|\n",
      "+--------------------+-----+\n",
      "only showing top 20 rows\n",
      "\n"
     ]
    }
   ],
   "source": [
    "host_sum_df =(df.groupBy('host').count())\n",
    "\n",
    "host_sum_df.show()"
   ]
  },
  {
   "cell_type": "code",
   "execution_count": 93,
   "metadata": {
    "collapsed": true
   },
   "outputs": [
    {
     "name": "stdout",
     "output_type": "stream",
     "text": [
      "+--------------------+\n",
      "|                host|\n",
      "+--------------------+\n",
      "|prakinf2.prakinf....|\n",
      "| alpha2.csd.uwm.edu |\n",
      "|cjc07992.slip.dig...|\n",
      "|n1377004.ksc.nasa...|\n",
      "|      163.205.2.134 |\n",
      "|huge.oso.chalmers...|\n",
      "|      163.205.44.27 |\n",
      "| shark.ksc.nasa.gov |\n",
      "| etc5.etechcorp.com |\n",
      "|dd07-029.compuser...|\n",
      "|    131.182.101.161 |\n",
      "|     134.95.100.201 |\n",
      "|vab08.larc.nasa.gov |\n",
      "|       ip11.iac.net |\n",
      "|ad11-012.compuser...|\n",
      "+--------------------+\n",
      "only showing top 15 rows\n",
      "\n"
     ]
    }
   ],
   "source": [
    "more_than_10_df = (host_sum_df\n",
    "                        .filter(host_sum_df['count'] > 10)\n",
    "                        .select(host_sum_df['host']))\n",
    "more_than_10_df.show(15)"
   ]
  },
  {
   "cell_type": "markdown",
   "metadata": {},
   "source": [
    "Q5: Show top 10 path based on their count (hint: Use groupby and count) (5 points)"
   ]
  },
  {
   "cell_type": "code",
   "execution_count": 94,
   "metadata": {
    "collapsed": true
   },
   "outputs": [
    {
     "name": "stdout",
     "output_type": "stream",
     "text": [
      "+--------------------+-----+\n",
      "|                path|count|\n",
      "+--------------------+-----+\n",
      "|/images/NASA-logo...|59666|\n",
      "|/images/KSC-logos...|50420|\n",
      "|/images/MOSAIC-lo...|43831|\n",
      "|/images/USA-logos...|43604|\n",
      "|/images/WORLD-log...|43217|\n",
      "|/images/ksclogo-m...|41267|\n",
      "|           /ksc.html|28536|\n",
      "|/history/apollo/i...|26766|\n",
      "|/images/launch-lo...|24742|\n",
      "|                   /|20173|\n",
      "|/images/ksclogosm...|18955|\n",
      "|/shuttle/missions...|17383|\n",
      "|/shuttle/missions...|16155|\n",
      "|/shuttle/missions...|15819|\n",
      "| /shuttle/countdown/|15740|\n",
      "|/shuttle/missions...|15214|\n",
      "|/images/launchmed...|13930|\n",
      "|     /icons/menu.xbm| 8704|\n",
      "|    /icons/blank.xbm| 8653|\n",
      "|    /icons/image.xbm| 7504|\n",
      "+--------------------+-----+\n",
      "only showing top 20 rows\n",
      "\n"
     ]
    }
   ],
   "source": [
    "paths_df = (df.groupBy('path').count().sort('count', ascending=False))\n",
    "\n",
    "paths_df.show()"
   ]
  },
  {
   "cell_type": "code",
   "execution_count": 95,
   "metadata": {},
   "outputs": [
    {
     "name": "stdout",
     "output_type": "stream",
     "text": [
      "+--------------------+-----+\n",
      "|                path|count|\n",
      "+--------------------+-----+\n",
      "|/images/NASA-logo...|59666|\n",
      "|/images/KSC-logos...|50420|\n",
      "|/images/MOSAIC-lo...|43831|\n",
      "|/images/USA-logos...|43604|\n",
      "|/images/WORLD-log...|43217|\n",
      "|/images/ksclogo-m...|41267|\n",
      "|           /ksc.html|28536|\n",
      "|/history/apollo/i...|26766|\n",
      "|/images/launch-lo...|24742|\n",
      "|                   /|20173|\n",
      "+--------------------+-----+\n",
      "only showing top 10 rows\n",
      "\n"
     ]
    }
   ],
   "source": [
    "paths_df.show(10)"
   ]
  },
  {
   "cell_type": "markdown",
   "metadata": {},
   "source": [
    "Difficulty: Intermediate"
   ]
  },
  {
   "cell_type": "markdown",
   "metadata": {},
   "source": [
    "Q6: What are the top ten paths which do not return code 200? Hint: Create a sorted list containing the paths and the number of times that they were accessed (counts) with a non 200 return code and show the top ten paths with their counts. (Use groupby and count) (5 points)"
   ]
  },
  {
   "cell_type": "code",
   "execution_count": 97,
   "metadata": {
    "collapsed": true
   },
   "outputs": [
    {
     "name": "stdout",
     "output_type": "stream",
     "text": [
      "+--------------------+--------------------+------+------------+-------------------+\n",
      "|                host|                path|status|content_size|               time|\n",
      "+--------------------+--------------------+------+------------+-------------------+\n",
      "|    uplherc.upl.com |                   /|   304|           0|1995-08-01 00:00:07|\n",
      "|    uplherc.upl.com |/images/ksclogo-m...|   304|           0|1995-08-01 00:00:08|\n",
      "|    uplherc.upl.com |/images/MOSAIC-lo...|   304|           0|1995-08-01 00:00:08|\n",
      "|    uplherc.upl.com |/images/USA-logos...|   304|           0|1995-08-01 00:00:08|\n",
      "|    uplherc.upl.com |/images/WORLD-log...|   304|           0|1995-08-01 00:00:10|\n",
      "|    uplherc.upl.com |/images/NASA-logo...|   304|           0|1995-08-01 00:00:14|\n",
      "|kgtyk4.kj.yamagat...|/images/NASA-logo...|   304|           0|1995-08-01 00:00:21|\n",
      "|kgtyk4.kj.yamagat...|/images/MOSAIC-lo...|   304|           0|1995-08-01 00:00:21|\n",
      "|kgtyk4.kj.yamagat...|/images/USA-logos...|   304|           0|1995-08-01 00:00:22|\n",
      "|kgtyk4.kj.yamagat...|/images/WORLD-log...|   304|           0|1995-08-01 00:00:22|\n",
      "+--------------------+--------------------+------+------------+-------------------+\n",
      "only showing top 10 rows\n",
      "\n"
     ]
    }
   ],
   "source": [
    "from pyspark.sql.functions import desc\n",
    "df2 = df.filter(logs_df['status'] != '200')\n",
    "\n",
    "df2.show(10)"
   ]
  },
  {
   "cell_type": "code",
   "execution_count": 98,
   "metadata": {},
   "outputs": [],
   "source": [
    "sum_df = df2.groupBy('path').count().sort('count', ascending=False)"
   ]
  },
  {
   "cell_type": "code",
   "execution_count": 99,
   "metadata": {},
   "outputs": [
    {
     "name": "stdout",
     "output_type": "stream",
     "text": [
      "+---------------------------------------+-----+\n",
      "|path                                   |count|\n",
      "+---------------------------------------+-----+\n",
      "|/images/NASA-logosmall.gif             |8761 |\n",
      "|/images/KSC-logosmall.gif              |7236 |\n",
      "|/images/MOSAIC-logosmall.gif           |5197 |\n",
      "|/images/USA-logosmall.gif              |5157 |\n",
      "|/images/WORLD-logosmall.gif            |5020 |\n",
      "|/images/ksclogo-medium.gif             |4728 |\n",
      "|/history/apollo/images/apollo-logo1.gif|2907 |\n",
      "|/images/launch-logo.gif                |2811 |\n",
      "|/                                      |2199 |\n",
      "|/images/ksclogosmall.gif               |1622 |\n",
      "+---------------------------------------+-----+\n",
      "only showing top 10 rows\n",
      "\n"
     ]
    }
   ],
   "source": [
    "sum_df.show(10, False)"
   ]
  },
  {
   "cell_type": "markdown",
   "metadata": {},
   "source": [
    "Q7: How many unique hosts are there in the entire log? (5 points)"
   ]
  },
  {
   "cell_type": "code",
   "execution_count": 100,
   "metadata": {
    "collapsed": true
   },
   "outputs": [
    {
     "name": "stdout",
     "output_type": "stream",
     "text": [
      "Unique hosts: 54507\n"
     ]
    }
   ],
   "source": [
    "unique_host = logs_df.select(logs_df['host']).distinct().count()\n",
    "print 'Unique hosts: {0}'.format(unique_host)"
   ]
  },
  {
   "cell_type": "markdown",
   "metadata": {},
   "source": [
    "Difficulty: Hard"
   ]
  },
  {
   "cell_type": "markdown",
   "metadata": {},
   "source": [
    "Q8: determine the number of unique hosts in the entire log on a day-by-day basis. Hint: You need to use the dayofmonth function in sql.functions module. https://spark.apache.org/docs/1.6.2/api/java/org/apache/spark/sql/functions.html\n",
    "Think about the steps that you need to perform to count the number of different hosts that make requests each day. (10 points)"
   ]
  },
  {
   "cell_type": "code",
   "execution_count": 101,
   "metadata": {
    "collapsed": true
   },
   "outputs": [],
   "source": [
    "from pyspark.sql.functions import dayofmonth\n",
    "\n",
    "day_host_pair_df = logs_df.select(logs_df['host'], dayofmonth(logs_df['time']).alias('day'))\n",
    "day_group_hosts_df = day_host_pair_df.distinct()\n",
    "daily_hosts_df = day_group_hosts_df.select(day_group_hosts_df['day']).groupBy(day_group_hosts_df['day']).count().cache()"
   ]
  },
  {
   "cell_type": "code",
   "execution_count": 102,
   "metadata": {},
   "outputs": [
    {
     "name": "stdout",
     "output_type": "stream",
     "text": [
      "+---+-----+\n",
      "|day|count|\n",
      "+---+-----+\n",
      "|12 |2864 |\n",
      "|22 |4456 |\n",
      "|1  |2582 |\n",
      "|13 |2650 |\n",
      "|6  |2537 |\n",
      "|16 |4340 |\n",
      "|3  |3222 |\n",
      "|20 |2560 |\n",
      "|5  |2502 |\n",
      "|19 |2550 |\n",
      "|15 |4214 |\n",
      "|9  |4317 |\n",
      "|17 |4385 |\n",
      "|4  |4190 |\n",
      "|8  |4406 |\n",
      "|7  |4106 |\n",
      "|10 |4523 |\n",
      "|21 |4134 |\n",
      "|11 |4346 |\n",
      "|14 |4454 |\n",
      "|18 |4168 |\n",
      "+---+-----+\n",
      "\n"
     ]
    }
   ],
   "source": [
    "daily_hosts_df.show(30, False)"
   ]
  },
  {
   "cell_type": "markdown",
   "metadata": {},
   "source": [
    "Q9: Visualize the Number of Unique Daily Hosts above. (Hint: Use matplotlib library) (5 points)"
   ]
  },
  {
   "cell_type": "code",
   "execution_count": 35,
   "metadata": {
    "collapsed": true
   },
   "outputs": [
    {
     "data": {
      "text/plain": [
       "<matplotlib.axes._subplots.AxesSubplot at 0x7f0ef4f9f550>"
      ]
     },
     "execution_count": 35,
     "metadata": {},
     "output_type": "execute_result"
    },
    {
     "data": {
      "image/png": "[encoded data removed]",
      "text/plain": [
       "<Figure size 432x288 with 1 Axes>"
      ]
     },
     "metadata": {},
     "output_type": "display_data"
    }
   ],
   "source": [
    "import pandas as pd \n",
    "\n",
    "daily_hosts_df= pd.DataFrame({'day':[12,22,1,13,6,16,3,20,5,19,15,9,17,4,8,7,10,21,11,14,18],'count':[2864,4456,2582,2650,2537,4340,3222,2560,2502,2550,4214,4317,4385,4190,4406,4106,4523,4134,4346,4454,4168]})\n",
    "daily_hosts_df.plot.bar(x='day',y='count')"
   ]
  },
  {
   "cell_type": "code",
   "execution_count": null,
   "metadata": {},
   "outputs": [],
   "source": []
  }
 ],
 "metadata": {
  "kernelspec": {
   "display_name": "Python 3",
   "language": "python",
   "name": "python3"
  },
  "language_info": {
   "codemirror_mode": {
    "name": "ipython",
    "version": 3
   },
   "file_extension": ".py",
   "mimetype": "text/x-python",
   "name": "python",
   "nbconvert_exporter": "python",
   "pygments_lexer": "ipython3",
   "version": "3.7.0"
  }
 },
 "nbformat": 4,
 "nbformat_minor": 2
}
